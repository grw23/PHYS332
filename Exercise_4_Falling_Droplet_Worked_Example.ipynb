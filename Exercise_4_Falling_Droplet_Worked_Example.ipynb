{
  "nbformat": 4,
  "nbformat_minor": 0,
  "metadata": {
    "colab": {
      "name": "Exercise 4_Falling Droplet Worked Example.ipynb",
      "provenance": [],
      "collapsed_sections": [],
      "include_colab_link": true
    },
    "kernelspec": {
      "name": "python3",
      "display_name": "Python 3"
    }
  },
  "cells": [
    {
      "cell_type": "markdown",
      "metadata": {
        "id": "view-in-github",
        "colab_type": "text"
      },
      "source": [
        "<a href=\"https://colab.research.google.com/github/grw23/PHYS332/blob/main/Exercise_4_Falling_Droplet_Worked_Example.ipynb\" target=\"_parent\"><img src=\"https://colab.research.google.com/assets/colab-badge.svg\" alt=\"Open In Colab\"/></a>"
      ]
    },
    {
      "cell_type": "markdown",
      "metadata": {
        "id": "mw0mwCKSDe2J"
      },
      "source": [
        "# Modelling the maximum spread of a falling drop \n",
        "\n",
        "In this exercise we will test the simple models for spreading following drop impact using some real experimental data. \n",
        "\n",
        "These data were collected for drop impacts of a stage 1 bulk infant formula solution (20% total solids in water) on to stainless steel. \n",
        "\n",
        "The code below gives an examplar solution to the exercise.\n",
        "\n"
      ]
    },
    {
      "cell_type": "code",
      "source": [
        "import numpy as np \n",
        "import matplotlib.pyplot as plt\n",
        "\n",
        "# We will use this for curve fitting\n",
        "from scipy.optimize import curve_fit\n",
        "\n",
        "# A vector of 9 measurements of maximum spreading diameter, in mm.\n",
        "Dmax = [4.38, 5.25, 5.75, 7.13, 7.97, 8.43, 8.56, 9.55, 9.43]\n",
        "\n",
        "# A vector of corresponding measurements of drop diameter just prior to impact, in mm.\n",
        "D0 = [2.01, 2.02, 2.05, 2.37, 2.39, 2.42, 2.44, 2.48, 2.25]\n",
        "\n",
        "# A vector of corresponding measurements of impact velocity, in m/s.\n",
        "v0 = [0.97, 1.41, 1.72, 1.92, 2.36, 2.66, 3.01, 3.24, 3.46]\n",
        "\n",
        "# Viscosity of the liquid, in Pa s\n",
        "eta = 0.0072\n",
        "\n",
        "# Density of the liquid, in kg / m3\n",
        "rho = 1040\n",
        "\n",
        "# Surface tension of the liquid, in J / m2\n",
        "gamma = 0.0534\n",
        "\n",
        "\n",
        "# ------------- Calculation of some vectors\n",
        "# e.g. see this link for matrix manipulation: https://www.tutorialspoint.com/matrix-manipulation-in-python\n",
        "\n",
        "# A vector of normalised spread factors\n",
        "beta = np.divide(Dmax,D0)\n",
        "\n",
        "# Vectors of Reynolds and Weber numbers\n",
        "\n",
        "Re = 1e-3*rho*np.multiply(D0,v0)/eta \n",
        "We = 1e-3*rho*np.multiply(D0,np.multiply(v0,v0))/gamma\n",
        "\n",
        "\n",
        "# ------------- Making a plot with a fit\n",
        "# e.g. for curve fitting see https://towardsdatascience.com/basic-curve-fitting-of-scientific-data-with-python-9592244a2509\n",
        "# And for plotting help try https://matplotlib.org/stable/index.html\n",
        "\n",
        "# Define the number of points to be plotted.\n",
        "npts = 101\n",
        "\n",
        "# Define a function to calculate the power-law with constants a and b\n",
        "def power_law(x, a, b): return a*np.power(x, b)\n",
        "\n",
        "# Plot the experimental data as points using log-log axes\n",
        "p = plt.loglog(Re, beta, 'bo')\n",
        "# Label the axes\n",
        "plt.ylabel('Normalized Spread Factor') \n",
        "plt.xlabel('Re')\n",
        "\n",
        "# Fit the data to the power-law\n",
        "pars, cov = curve_fit(f=power_law, xdata=Re, ydata=beta, p0=[0, 0], bounds=(-np.inf, np.inf))\n",
        "\n",
        "# Inputs\n",
        "# f — function used for fitting (in this case power law)\n",
        "# xdata — array of x-data for fitting\n",
        "# ydata — array of y-data for fitting\n",
        "# p0 — array of initial guesses for the fitting parameters (both a and b as 0)\n",
        "# bounds — bounds for the parameters (-∞ to ∞)\n",
        "# Outputs\n",
        "# pars — array of parameters from fit (in this case [a, b])\n",
        "# cov — the estimated covariance of pars which can be used to determine the standard deviations of the fitting parameters (square roots of the diagonals)\n",
        "\n",
        "# Calculate the residuals\n",
        "res = beta - power_law(Re, *pars)\n",
        "\n",
        "#Print out your calculated fit parameters, rounded to 3 sig figs\n",
        "print ('Best fit coefficient = ', np.round(pars[0],4))\n",
        "print ('Best fit exponent = ', np.round(pars[1],3))\n",
        "\n",
        "#Calculate R-squared using the residuals, and print\n",
        "betares = beta-np.mean(beta)\n",
        "Rsq = 1 - np.sum(np.multiply(res,res))/np.sum(np.multiply(betares,betares))\n",
        "print ('R-squared = ', np.round(Rsq,3))\n",
        "\n",
        "# Plot the fit data as an overlay on the scatter data\n",
        "plt.loglog(Re, power_law(Re, *pars), linestyle='--', linewidth=2, color='black')\n",
        "\n",
        "plt.show() #Shows the graph, stops it from printing other things out\n"
      ],
      "metadata": {
        "colab": {
          "base_uri": "https://localhost:8080/",
          "height": 339
        },
        "id": "ZVNnnOWP5MTV",
        "outputId": "8c6fc357-8e8d-4df5-802b-837468be3edd"
      },
      "execution_count": 1,
      "outputs": [
        {
          "output_type": "stream",
          "name": "stdout",
          "text": [
            "Best fit coefficient =  0.2139\n",
            "Best fit exponent =  0.411\n",
            "R-squared =  0.938\n"
          ]
        },
        {
          "output_type": "display_data",
          "data": {
            "text/plain": [
              "<Figure size 432x288 with 1 Axes>"
            ],
            "image/png": "[encoded data removed]"
          },
          "metadata": {
            "needs_background": "light"
          }
        }
      ]
    },
    {
      "cell_type": "markdown",
      "source": [
        "Repeat the fitting and plotting for Weber number"
      ],
      "metadata": {
        "id": "a3zGOBUXGwsa"
      }
    },
    {
      "cell_type": "code",
      "source": [
        "# ------------- Making a plot (Weber number))\n",
        "\n",
        "# Define the number of points to be plotted.\n",
        "npts = 101\n",
        "\n",
        "# https://towardsdatascience.com/basic-curve-fitting-of-scientific-data-with-python-9592244a2509\n",
        "# Function to calculate the power-law with constants a and b\n",
        "def power_law(x, a, b): return a*np.power(x, b)\n",
        "\n",
        "# Plot the experimental data as points using log-log axes\n",
        "p = plt.loglog(We, beta, 'ro')\n",
        "# Label the axes\n",
        "plt.ylabel('Normalized Spread Factor') \n",
        "plt.xlabel('We')\n",
        "\n",
        "# Fit the data to the power-law\n",
        "pars, cov = curve_fit(f=power_law, xdata=We, ydata=beta, p0=[0, 0], bounds=(-np.inf, np.inf))\n",
        "\n",
        "# Inputs\n",
        "# f — function used for fitting (in this case power law)\n",
        "# xdata — array of x-data for fitting\n",
        "# ydata — array of y-data for fitting\n",
        "# p0 — array of initial guesses for the fitting parameters (both a and b as 0)\n",
        "# bounds — bounds for the parameters (-∞ to ∞)\n",
        "# Outputs\n",
        "# pars — array of parameters from fit (in this case [a, b])\n",
        "# cov — the estimated covariance of pars which can be used to determine the standard deviations of the fitting parameters (square roots of the diagonals)\n",
        "\n",
        "# Calculate the residuals\n",
        "res = beta - power_law(We, *pars)\n",
        "\n",
        "#Print out your calculated fit parameters, rounded to 3 sig figs\n",
        "print ('Best fit coefficient = ', np.round(pars[0],4))\n",
        "print ('Best fit exponent = ', np.round(pars[1],3))\n",
        "\n",
        "#Calculate R-squared using the residuals, and print\n",
        "betares = beta-np.mean(beta)\n",
        "Rsq = 1 - np.sum(np.multiply(res,res))/np.sum(np.multiply(betares,betares))\n",
        "print ('R-squared = ', np.round(Rsq,3))\n",
        "\n",
        "# Plot the fit data as an overlay on the scatter data\n",
        "plt.loglog(We, power_law(We, *pars), linestyle='--', linewidth=2, color='black')\n",
        "\n",
        "plt.show() #Shows the graph, stops it from printing other things out"
      ],
      "metadata": {
        "colab": {
          "base_uri": "https://localhost:8080/",
          "height": 339
        },
        "id": "Acw_BgkbG3k4",
        "outputId": "7f873c89-2478-4f5d-f025-50a6bd3e8a36"
      },
      "execution_count": 2,
      "outputs": [
        {
          "output_type": "stream",
          "name": "stdout",
          "text": [
            "Best fit coefficient =  0.9612\n",
            "Best fit exponent =  0.224\n",
            "R-squared =  0.956\n"
          ]
        },
        {
          "output_type": "display_data",
          "data": {
            "text/plain": [
              "<Figure size 432x288 with 1 Axes>"
            ],
            "image/png": "[encoded data removed]"
          },
          "metadata": {
            "needs_background": "light"
          }
        }
      ]
    },
    {
      "cell_type": "markdown",
      "source": [
        "Interpretation:\n",
        "*   The power-law fit between $\\beta$ and Re gives a much larger exponent (0.41) than the viscous model from lectures ($\\beta\\propto$Re$^{0.20}$).\n",
        "*   The power-law fit between $\\beta$ and We gives a better $R^2$ value than for We. The exponent (0.22) is much closer to the \"effective gravity\" model ($\\beta\\propto$We$^{0.25}$) than to the energy conservation model ($\\beta\\propto$We$^{0.50}$).\n",
        "\n",
        "\n",
        "*Contact: Geoff Willmott (g.willmott@auckland@auckland.ac.nz)*"
      ],
      "metadata": {
        "id": "nkdcX3znSxoi"
      }
    }
  ]
}