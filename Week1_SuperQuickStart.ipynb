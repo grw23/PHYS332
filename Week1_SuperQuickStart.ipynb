{
  "nbformat": 4,
  "nbformat_minor": 0,
  "metadata": {
    "colab": {
      "name": "Copy of 00_SuperQuickStart.ipynb",
      "provenance": [],
      "include_colab_link": true
    },
    "kernelspec": {
      "name": "python3",
      "display_name": "Python 3"
    }
  },
  "cells": [
    {
      "cell_type": "markdown",
      "metadata": {
        "id": "view-in-github",
        "colab_type": "text"
      },
      "source": [
        "<a href=\"https://colab.research.google.com/github/grw23/PHYS332/blob/main/Week1_SuperQuickStart.ipynb\" target=\"_parent\"><img src=\"https://colab.research.google.com/assets/colab-badge.svg\" alt=\"Open In Colab\"/></a>"
      ]
    },
    {
      "cell_type": "markdown",
      "metadata": {
        "id": "RRh5N9qhseVB"
      },
      "source": [
        "# Welcome to Python and CoLabs\n",
        "*David Noone (david.noone@auckland.ac.nz)*\n",
        "\n",
        "This notebook is intended to be asuper quick starter to help get going with the more complete (and useful examples).\n",
        "\n",
        "Files are available via github, and can be run on colab hosted by google.\n",
        "\n",
        "\n"
      ]
    },
    {
      "cell_type": "markdown",
      "metadata": {
        "id": "JsjIJevRtEIK"
      },
      "source": [
        "Python is most useful with various libraries. For spatial data \"numpy\" is essential. It is almost always imported at the beginning. Similarly, we're inevitably going to want to make some plots: let's use matplot lib."
      ]
    },
    {
      "cell_type": "code",
      "metadata": {
        "id": "7tkyDcWlsdFc"
      },
      "source": [
        "import math\n",
        "import numpy as np\n",
        "import matplotlib.pyplot as plt"
      ],
      "execution_count": 1,
      "outputs": []
    },
    {
      "cell_type": "markdown",
      "metadata": {
        "id": "FTVSNkkruHY1"
      },
      "source": [
        "Push the \"play\" button above to make that cell run.\n",
        "\n",
        "Now let's assign some data to a new array and make the super simplest plot one can imagine.\n",
        "Make an \"x\" axis between 0 and 2 pi.\n",
        "print values to the screen, so we can check we did it right!"
      ]
    },
    {
      "cell_type": "code",
      "metadata": {
        "id": "4R0O8NBCuQOM",
        "colab": {
          "base_uri": "https://localhost:8080/"
        },
        "outputId": "cfda1aac-5599-4664-df4d-20ab0888eefc"
      },
      "source": [
        "npts = 20 \n",
        "xvals = np.linspace(0,2*math.pi,npts)\n",
        "print(xvals)"
      ],
      "execution_count": 2,
      "outputs": [
        {
          "output_type": "stream",
          "name": "stdout",
          "text": [
            "[0.         0.33069396 0.66138793 0.99208189 1.32277585 1.65346982\n",
            " 1.98416378 2.31485774 2.64555171 2.97624567 3.30693964 3.6376336\n",
            " 3.96832756 4.29902153 4.62971549 4.96040945 5.29110342 5.62179738\n",
            " 5.95249134 6.28318531]\n"
          ]
        }
      ]
    },
    {
      "cell_type": "markdown",
      "metadata": {
        "id": "IVDmp2T3vD4v"
      },
      "source": [
        "Lets evaluate a function: y = A sin(n x)"
      ]
    },
    {
      "cell_type": "code",
      "metadata": {
        "id": "12zX5ntGu1b3",
        "colab": {
          "base_uri": "https://localhost:8080/"
        },
        "outputId": "fa5733f7-95b2-4241-bf39-117c687b8d66"
      },
      "source": [
        "amplitude = 1\n",
        "wavenumber = 2\n",
        "yvals = amplitude*np.sin(wavenumber*xvals)\n",
        "\n",
        "print(\"my Y values are: \",yvals)"
      ],
      "execution_count": 3,
      "outputs": [
        {
          "output_type": "stream",
          "name": "stdout",
          "text": [
            "my Y values are:  [ 0.00000000e+00  6.14212713e-01  9.69400266e-01  9.15773327e-01\n",
            "  4.75947393e-01 -1.64594590e-01 -7.35723911e-01 -9.96584493e-01\n",
            " -8.37166478e-01 -3.24699469e-01  3.24699469e-01  8.37166478e-01\n",
            "  9.96584493e-01  7.35723911e-01  1.64594590e-01 -4.75947393e-01\n",
            " -9.15773327e-01 -9.69400266e-01 -6.14212713e-01 -4.89858720e-16]\n"
          ]
        }
      ]
    },
    {
      "cell_type": "markdown",
      "metadata": {
        "id": "IO5_AwD7vPOn"
      },
      "source": [
        "And now, we're all set t make a graph"
      ]
    },
    {
      "cell_type": "code",
      "metadata": {
        "id": "qDbb0_RhvOpE",
        "colab": {
          "base_uri": "https://localhost:8080/",
          "height": 265
        },
        "outputId": "88f493f8-b750-48df-d7fb-d4fd0f1ff5ee"
      },
      "source": [
        "p = plt.plot(xvals, yvals)"
      ],
      "execution_count": 4,
      "outputs": [
        {
          "output_type": "display_data",
          "data": {
            "image/png": "[encoded data removed]",
            "text/plain": [
              "<Figure size 432x288 with 1 Axes>"
            ]
          },
          "metadata": {
            "needs_background": "light"
          }
        }
      ]
    },
    {
      "cell_type": "markdown",
      "metadata": {
        "id": "S_8G4ZVfvr4J"
      },
      "source": [
        "At tis stage, we have a pretty good starting place. It does not have labels!\n",
        "\n",
        "Try the folloing: \n",
        "  * Add an x axis label\n",
        "  * Add an y axis label\n",
        "  * Give it a title \n"
      ]
    },
    {
      "cell_type": "code",
      "metadata": {
        "id": "D0VGS9WQwBAq"
      },
      "source": [
        "# Add your code for x label, y label and a title.\n",
        "#\n",
        "\n"
      ],
      "execution_count": null,
      "outputs": []
    },
    {
      "cell_type": "markdown",
      "metadata": {
        "id": "_tea6Q8xwEKG"
      },
      "source": [
        "And finally let's manipulate the figure.\n",
        "\n",
        "Try:\n",
        "  * Making it smoother by changing the number of points\n",
        "  * Add a second line with different amplitude\n",
        "  * Add a third line with a different wave number\n",
        "  * Add a legend to your plot."
      ]
    },
    {
      "cell_type": "code",
      "metadata": {
        "id": "mLe87CkzwTQV"
      },
      "source": [
        "# Add you code to change \"smoothness\", additional curves, and a legend.\n",
        "#"
      ],
      "execution_count": null,
      "outputs": []
    },
    {
      "cell_type": "markdown",
      "metadata": {
        "id": "Qnib-7cJwbVM"
      },
      "source": [
        "Finally, this plot is not bad, but could be fancier. Explore other options from matplot lib to change the colors, linestyle etc. \n",
        "\n",
        "The [pyplot manual](https://matplotlib.org/stable/tutorials/introductory/pyplot.html) is here, and is a handy resource."
      ]
    },
    {
      "cell_type": "code",
      "metadata": {
        "id": "ooyADaLpw5UQ"
      },
      "source": [
        "# Add your aesthetically fancy code here\n",
        "#"
      ],
      "execution_count": null,
      "outputs": []
    },
    {
      "cell_type": "markdown",
      "metadata": {
        "id": "YpJ1kpEYxM56"
      },
      "source": [
        "# Outcome\n",
        "Having completed this quite primer, you should be able to handle some simple arrays and create a graph. Also, you've successfully worked with notebooks.\n",
        "\n"
      ]
    }
  ]
}