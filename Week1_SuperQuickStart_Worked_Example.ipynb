{
  "nbformat": 4,
  "nbformat_minor": 0,
  "metadata": {
    "colab": {
      "name": "Week1_SuperQuickStart_Worked Example.ipynb",
      "provenance": [],
      "collapsed_sections": [],
      "include_colab_link": true
    },
    "kernelspec": {
      "name": "python3",
      "display_name": "Python 3"
    }
  },
  "cells": [
    {
      "cell_type": "markdown",
      "metadata": {
        "id": "view-in-github",
        "colab_type": "text"
      },
      "source": [
        "<a href=\"https://colab.research.google.com/github/grw23/PHYS332/blob/main/Week1_SuperQuickStart_Worked_Example.ipynb\" target=\"_parent\"><img src=\"https://colab.research.google.com/assets/colab-badge.svg\" alt=\"Open In Colab\"/></a>"
      ]
    },
    {
      "cell_type": "markdown",
      "metadata": {
        "id": "RRh5N9qhseVB"
      },
      "source": [
        "# Welcome to Python and CoLabs\n",
        "*Created by David Noone (david.noone@auckland.ac.nz)*\n",
        "\n",
        "*2022 version, contact: Geoff Willmott (g.willmott@auckland@auckland.ac.nz)*\n",
        "\n",
        "This notebook is intended to be a super quick starter to help get going with the more complete (and useful) examples.\n",
        "\n",
        "Files are available via Github, and can be run on Colab hosted by Google.\n",
        "\n",
        "\n"
      ]
    },
    {
      "cell_type": "markdown",
      "metadata": {
        "id": "JsjIJevRtEIK"
      },
      "source": [
        "Python is most useful with various libraries. For spatial data \"numpy\" is essential. It is almost always imported at the beginning. Similarly, we're inevitably going to want to make some plots: let's use matplot lib."
      ]
    },
    {
      "cell_type": "code",
      "metadata": {
        "id": "7tkyDcWlsdFc"
      },
      "source": [
        "import math\n",
        "import numpy as np\n",
        "import matplotlib.pyplot as plt"
      ],
      "execution_count": null,
      "outputs": []
    },
    {
      "cell_type": "markdown",
      "metadata": {
        "id": "FTVSNkkruHY1"
      },
      "source": [
        "Push the \"play\" button above to make that cell run.\n",
        "\n",
        "Now let's assign some data to a new array and make a really simple plot.\n",
        "Make an \"x\" axis between 0 and 2 pi.\n",
        "Print values to the screen, so we can check we did it right!"
      ]
    },
    {
      "cell_type": "code",
      "metadata": {
        "id": "4R0O8NBCuQOM",
        "colab": {
          "base_uri": "https://localhost:8080/"
        },
        "outputId": "fc4ec8ed-b4a2-47b9-b02a-55a166184158"
      },
      "source": [
        "npts = 60 #Added code to change smoothness\n",
        "xvals = np.linspace(0,2*math.pi,npts)\n",
        "print(xvals)"
      ],
      "execution_count": null,
      "outputs": [
        {
          "output_type": "stream",
          "name": "stdout",
          "text": [
            "[0.         0.10649467 0.21298933 0.319484   0.42597866 0.53247333\n",
            " 0.638968   0.74546266 0.85195733 0.958452   1.06494666 1.17144133\n",
            " 1.27793599 1.38443066 1.49092533 1.59741999 1.70391466 1.81040933\n",
            " 1.91690399 2.02339866 2.12989332 2.23638799 2.34288266 2.44937732\n",
            " 2.55587199 2.66236666 2.76886132 2.87535599 2.98185065 3.08834532\n",
            " 3.19483999 3.30133465 3.40782932 3.51432399 3.62081865 3.72731332\n",
            " 3.83380798 3.94030265 4.04679732 4.15329198 4.25978665 4.36628132\n",
            " 4.47277598 4.57927065 4.68576531 4.79225998 4.89875465 5.00524931\n",
            " 5.11174398 5.21823864 5.32473331 5.43122798 5.53772264 5.64421731\n",
            " 5.75071198 5.85720664 5.96370131 6.07019597 6.17669064 6.28318531]\n"
          ]
        }
      ]
    },
    {
      "cell_type": "markdown",
      "metadata": {
        "id": "IVDmp2T3vD4v"
      },
      "source": [
        "Let's evaluate a function: y = A sin(n x)"
      ]
    },
    {
      "cell_type": "code",
      "metadata": {
        "id": "12zX5ntGu1b3",
        "colab": {
          "base_uri": "https://localhost:8080/"
        },
        "outputId": "071e3f7b-3d27-4072-fd27-02c44a9a8d5e"
      },
      "source": [
        "amplitude = 1\n",
        "wavenumber = 2\n",
        "yvals = amplitude*np.sin(wavenumber*xvals)\n",
        "\n",
        "print(\"my Y values are: \",yvals)\n",
        "\n",
        "#Added additional curves\n",
        "y2vals = 2*amplitude*np.sin(wavenumber*xvals)\n",
        "y3vals = amplitude*np.sin(2*wavenumber*xvals)"
      ],
      "execution_count": null,
      "outputs": [
        {
          "output_type": "stream",
          "name": "stdout",
          "text": [
            "my Y values are:  [ 0.00000000e+00  2.11382624e-01  4.13212186e-01  5.96367359e-01\n",
            "  7.52570770e-01  8.74763085e-01  9.57422038e-01  9.96812007e-01\n",
            "  9.91152831e-01  9.40700267e-01  8.47734428e-01  7.16456740e-01\n",
            "  5.52800065e-01  3.64160575e-01  1.59063496e-01 -5.32221748e-02\n",
            " -2.63102564e-01 -4.61092501e-01 -6.38244184e-01 -7.86551556e-01\n",
            " -8.99312130e-01 -9.71429893e-01 -9.99645611e-01 -9.82684125e-01\n",
            " -9.21311978e-01 -8.18302776e-01 -6.78311836e-01 -5.07665800e-01\n",
            " -3.14076712e-01 -1.06293486e-01  1.06293486e-01  3.14076712e-01\n",
            "  5.07665800e-01  6.78311836e-01  8.18302776e-01  9.21311978e-01\n",
            "  9.82684125e-01  9.99645611e-01  9.71429893e-01  8.99312130e-01\n",
            "  7.86551556e-01  6.38244184e-01  4.61092501e-01  2.63102564e-01\n",
            "  5.32221748e-02 -1.59063496e-01 -3.64160575e-01 -5.52800065e-01\n",
            " -7.16456740e-01 -8.47734428e-01 -9.40700267e-01 -9.91152831e-01\n",
            " -9.96812007e-01 -9.57422038e-01 -8.74763085e-01 -7.52570770e-01\n",
            " -5.96367359e-01 -4.13212186e-01 -2.11382624e-01 -4.89858720e-16]\n"
          ]
        }
      ]
    },
    {
      "cell_type": "markdown",
      "metadata": {
        "id": "IO5_AwD7vPOn"
      },
      "source": [
        "And now, we're all set to make a graph"
      ]
    },
    {
      "cell_type": "code",
      "metadata": {
        "id": "qDbb0_RhvOpE",
        "colab": {
          "base_uri": "https://localhost:8080/",
          "height": 295
        },
        "outputId": "be799a0d-a2d6-484c-9bad-51bd98a960be"
      },
      "source": [
        "#Added extra plots and defined the colours and styles of the lines\n",
        "p = plt.plot(xvals, yvals, 'b-', xvals, y2vals, 'r-.', xvals, y3vals, 'g--')\n",
        "\n",
        "#Added axis labels and title\n",
        "plt.ylabel('y')\n",
        "plt.xlabel('x')\n",
        "plt.title('A sin(nx)')\n",
        "\n",
        "# Add a legend.\n",
        "plt.legend(['y1', 'y2', 'y3'])\n",
        "\n",
        "plt.show() #Stops it from printing things out"
      ],
      "execution_count": null,
      "outputs": [
        {
          "output_type": "display_data",
          "data": {
            "image/png": "[encoded data removed]",
            "text/plain": [
              "<Figure size 432x288 with 1 Axes>"
            ]
          },
          "metadata": {
            "needs_background": "light"
          }
        }
      ]
    },
    {
      "cell_type": "markdown",
      "metadata": {
        "id": "S_8G4ZVfvr4J"
      },
      "source": [
        "At this stage, we have a pretty good starting place. It does not have labels!\n",
        "\n",
        "Try the following: \n",
        "  * Add an x axis label\n",
        "  * Add an y axis label\n",
        "  * Give it a title \n",
        "\n",
        "The [pyplot manual is here](https://matplotlib.org/stable/tutorials/introductory/pyplot.html), and is a handy resource.\n"
      ]
    },
    {
      "cell_type": "code",
      "metadata": {
        "id": "D0VGS9WQwBAq"
      },
      "source": [
        "# Add your code for x label, y label and a title.\n",
        "#\n",
        "\n",
        "\n"
      ],
      "execution_count": null,
      "outputs": []
    },
    {
      "cell_type": "markdown",
      "metadata": {
        "id": "_tea6Q8xwEKG"
      },
      "source": [
        "And finally let's manipulate the figure.\n",
        "\n",
        "Try:\n",
        "  * Making it smoother by changing the number of points\n",
        "  * Add a second line with different amplitude\n",
        "  * Add a third line with a different wave number\n",
        "  * Add a legend to your plot."
      ]
    },
    {
      "cell_type": "code",
      "metadata": {
        "id": "mLe87CkzwTQV"
      },
      "source": [
        "# Add you code to change \"smoothness\", additional curves, and a legend.\n",
        "#"
      ],
      "execution_count": null,
      "outputs": []
    },
    {
      "cell_type": "markdown",
      "metadata": {
        "id": "Qnib-7cJwbVM"
      },
      "source": [
        "Finally, this plot is not bad, but could be fancier. Explore other options from matplot lib to change the colors, linestyle etc. \n",
        "\n"
      ]
    },
    {
      "cell_type": "code",
      "metadata": {
        "id": "ooyADaLpw5UQ"
      },
      "source": [
        "# Add your aesthetically fancy code here\n",
        "#"
      ],
      "execution_count": null,
      "outputs": []
    },
    {
      "cell_type": "markdown",
      "metadata": {
        "id": "YpJ1kpEYxM56"
      },
      "source": [
        "# Outcome\n",
        "Having completed this exercise, you should be able to handle some simple arrays and create a graph. Also, you've successfully worked with notebooks.\n",
        "\n",
        "To confirm your participation, send your finished plot on an email entitled 'Python Week 1' to: g.willmott@auckland.ac.nz\n"
      ]
    }
  ]
}