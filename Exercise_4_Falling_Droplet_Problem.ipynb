{
  "nbformat": 4,
  "nbformat_minor": 0,
  "metadata": {
    "colab": {
      "name": "Exercise 4_Falling Droplet Problem.ipynb",
      "provenance": [],
      "collapsed_sections": [],
      "include_colab_link": true
    },
    "kernelspec": {
      "name": "python3",
      "display_name": "Python 3"
    }
  },
  "cells": [
    {
      "cell_type": "markdown",
      "metadata": {
        "id": "view-in-github",
        "colab_type": "text"
      },
      "source": [
        "<a href=\"https://colab.research.google.com/github/grw23/PHYS332/blob/main/Exercise_4_Falling_Droplet_Problem.ipynb\" target=\"_parent\"><img src=\"https://colab.research.google.com/assets/colab-badge.svg\" alt=\"Open In Colab\"/></a>"
      ]
    },
    {
      "cell_type": "markdown",
      "metadata": {
        "id": "mw0mwCKSDe2J"
      },
      "source": [
        "# Modelling the maximum spread of a falling drop \n",
        "\n",
        "In this exercise we will test the simple models for spreading following drop impact using some real experimental data. \n",
        "\n",
        "These data were collected for drop impacts of a stage 1 bulk infant formula solution (20% total solids in water) on to stainless steel. \n",
        "\n",
        "The block of code below gives the data and the outline of the process."
      ]
    },
    {
      "cell_type": "code",
      "source": [
        "import numpy as np \n",
        "import matplotlib.pyplot as plt\n",
        "\n",
        "# We will use this for curve fitting\n",
        "from scipy.optimize import curve_fit\n",
        "\n",
        "# A vector of 9 measurements of maximum spreading diameter, in mm.\n",
        "Dmax = [4.38, 5.25, 5.75, 7.13, 7.97, 8.43, 8.56, 9.55, 9.43]\n",
        "\n",
        "# A vector of corresponding measurements of drop diameter just prior to impact, in mm.\n",
        "D0 = [2.01, 2.02, 2.05, 2.37, 2.39, 2.42, 2.44, 2.48, 2.25]\n",
        "\n",
        "# A vector of corresponding measurements of impact velocity, in m/s.\n",
        "v0 = [0.97, 1.41, 1.72, 1.92, 2.36, 2.66, 3.01, 3.24, 3.46]\n",
        "\n",
        "# Viscosity of the liquid, in Pa s\n",
        "eta = 0.0072\n",
        "\n",
        "# Density of the liquid, in kg / m3\n",
        "rho = 1040\n",
        "\n",
        "# Surface tension of the liquid, in J / m2\n",
        "gamma = 0.0534\n",
        "\n",
        "\n",
        "# ------------- Calculation of some vectors\n",
        "# e.g. see this link for matrix manipulation: https://www.tutorialspoint.com/matrix-manipulation-in-python\n",
        "\n",
        "# A vector of normalised spread factors\n",
        "beta = np.divide(Dmax,D0)\n",
        "\n",
        "# Vectors of Reynolds and Weber numbers\n",
        "\n",
        "Re = ...\n",
        "We = ...\n",
        "\n",
        "\n",
        "# ------------- Making a plot with a fit\n",
        "# e.g. for curve fitting see https://towardsdatascience.com/basic-curve-fitting-of-scientific-data-with-python-9592244a2509\n",
        "# And for plotting help try https://matplotlib.org/stable/index.html\n",
        "\n",
        "# Define the number of points to be plotted.\n",
        "npts = 101\n",
        "\n",
        "# Define a function to calculate the power-law with constants a and b\n",
        "def power_law(x, a, b): return a*np.power(x, b)\n",
        "\n",
        "# Plot the experimental data as points using log-log axes\n",
        "p = plt.loglog(...)\n",
        "# Label the axes\n",
        "...\n",
        "\n",
        "\n",
        "# Fit the data to the power-law\n",
        "pars, cov = curve_fit(f=power_law, xdata=..., ydata=..., p0=[0, 0], bounds=(-np.inf, np.inf))\n",
        "\n",
        "# Inputs\n",
        "# f — function used for fitting (in this case power law)\n",
        "# xdata — array of x-data for fitting\n",
        "# ydata — array of y-data for fitting\n",
        "# p0 — array of initial guesses for the fitting parameters (both a and b as 0)\n",
        "# bounds — bounds for the parameters (-∞ to ∞)\n",
        "# Outputs\n",
        "# pars — array of parameters from fit (in this case [a, b])\n",
        "# cov — the estimated covariance of pars which can be used to determine the standard deviations of the fitting parameters (square roots of the diagonals)\n",
        "\n",
        "# Calculate the residuals\n",
        "res = beta - power_law(Re, *pars)\n",
        "\n",
        "#Print out your calculated fit parameters, rounded to 3 sig figs\n",
        "print ...\n",
        "\n",
        "#Calculate R-squared using the residuals, and print\n",
        "...\n",
        "\n",
        "# Plot the fit data as an overlay on the scatter data\n",
        "plt.loglog(Re, power_law(Re, *pars), ...)\n",
        "\n",
        "plt.show() #Shows the graph, stops it from printing other things out\n"
      ],
      "metadata": {
        "colab": {
          "base_uri": "https://localhost:8080/",
          "height": 134
        },
        "id": "ZVNnnOWP5MTV",
        "outputId": "affc83b4-d24d-4512-a870-ded4e560790b"
      },
      "execution_count": 1,
      "outputs": [
        {
          "output_type": "error",
          "ename": "SyntaxError",
          "evalue": "ignored",
          "traceback": [
            "\u001b[0;36m  File \u001b[0;32m\"<ipython-input-1-03fa56858700>\"\u001b[0;36m, line \u001b[0;32m71\u001b[0m\n\u001b[0;31m    print ...\u001b[0m\n\u001b[0m            ^\u001b[0m\n\u001b[0;31mSyntaxError\u001b[0m\u001b[0;31m:\u001b[0m Missing parentheses in call to 'print'. Did you mean print(...)?\n"
          ]
        }
      ]
    },
    {
      "cell_type": "markdown",
      "metadata": {
        "id": "5x5HkQ5aNOlR"
      },
      "source": [
        "# Exercises to complete\n",
        "\n",
        "**To hand in by 5 pm on Friday 8 April** via email to g.willmott@auckland.ac.nz.\n",
        "\n",
        "Using the data provided, develop the parts of the code where '...' appears:\n",
        "\n",
        "\n",
        "1.   Construct vectors of the Reynolds and Weber numbers for each drop impact.\n",
        "2.   Using log-log axes, plot the normalised spread factor ($\\beta$) as a function of Reynolds number (Re), and label the axes.\n",
        "3. Complete the code for fitting the data to a power law, $\\beta=a$Re$^b$.\n",
        "4.  Print out $a$, $b$, and $R^2$ for the fit.\n",
        "5.  Add the plot of the fit to your plot of the experimental data, and show the plot.\n",
        "\n",
        "Complete steps 2-5 for $\\beta$ as a function of Weber number (We).\n",
        "\n",
        "Submit your two graphs, along with the power law exponents and $R^2$ values for your fits. Which of the three simple models given in lectures best describe these data?\n",
        "\n",
        "*Contact: Geoff Willmott (g.willmott@auckland@auckland.ac.nz)*\n",
        "\n",
        "\n",
        "\n",
        "\n"
      ]
    }
  ]
}