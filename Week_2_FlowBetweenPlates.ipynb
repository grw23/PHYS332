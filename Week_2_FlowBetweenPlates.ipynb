{
  "nbformat": 4,
  "nbformat_minor": 0,
  "metadata": {
    "colab": {
      "name": "Week 2_FlowBetweenPlates.ipynb",
      "provenance": [],
      "collapsed_sections": [],
      "include_colab_link": true
    },
    "kernelspec": {
      "name": "python3",
      "display_name": "Python 3"
    }
  },
  "cells": [
    {
      "cell_type": "markdown",
      "metadata": {
        "id": "view-in-github",
        "colab_type": "text"
      },
      "source": [
        "<a href=\"https://colab.research.google.com/github/grw23/PHYS332/blob/main/Week_2_FlowBetweenPlates.ipynb\" target=\"_parent\"><img src=\"https://colab.research.google.com/assets/colab-badge.svg\" alt=\"Open In Colab\"/></a>"
      ]
    },
    {
      "cell_type": "markdown",
      "metadata": {
        "id": "mw0mwCKSDe2J"
      },
      "source": [
        "# Flow between plates\n",
        "\n",
        "Poiseuille flow, resulting from flow between plates\n",
        "\n",
        "Case 1: Derive an expression for the velocity profile for flow between 2 plates that are not moving. Consider them to be separated from one another by some distance (\"distance\"), and for the length of the channel to be the \"length\". We will assume the pressure graddient is constant:\n",
        "\n",
        "\n",
        "```\n",
        "    pgrad = (p_out - p_in)/length\n",
        "```\n",
        "\n",
        "\n",
        "\n",
        "Make a plot showing the velocity profile. "
      ]
    },
    {
      "cell_type": "code",
      "metadata": {
        "id": "dXVvL4jKDb7w",
        "colab": {
          "base_uri": "https://localhost:8080/",
          "height": 281
        },
        "outputId": "e6f486f9-8a33-43fc-bd7a-db7b72911fd8"
      },
      "source": [
        "#\n",
        "# Plot of the velocity profile v_1 = v_1(x_2) for Couette flow\n",
        "#\n",
        "import numpy as np\n",
        "import matplotlib.pyplot as plt\n",
        "\n",
        "# Set parameters to arbitrary values that could be changed for a specific problem.\n",
        "p_out = 0\n",
        "p_in = 1\n",
        "distance = 1\n",
        "length = 1\n",
        "viscosity = 1\n",
        "\n",
        "#Calculate the pressure gradient\n",
        "# If p_out < p_in then p_grad is negative and the fluid moves in the positive direction.\n",
        "p_grad = (p_out - p_in)/length\n",
        "\n",
        "# Define the number of points to be plotted.\n",
        "npts = 101\n",
        "\n",
        "# np.linspace returns evenly spaced numbers over the specified interval.\n",
        "x2pts = np.linspace(0,distance,npts)\n",
        "\n",
        "# Calculate the velocity profile - see lecture notes\n",
        "v_1 = (p_grad / 2*viscosity)*zpts*(zpts - distance)\n",
        "\n",
        "p = plt.plot(v_1, x2pts)\n",
        "\n",
        "#The dollar signs here mean the text will be considered as an equation. This lets us put the subscript in. \n",
        "#(This is the same as when writing in the typesetting language Latex.)\n",
        "plt.ylabel('$x_2$')\n",
        "plt.xlabel('$v_1$')\n",
        "\n",
        "plt.show() #Stops it from printing things out\n",
        "\n"
      ],
      "execution_count": 9,
      "outputs": [
        {
          "output_type": "display_data",
          "data": {
            "image/png": "[encoded data removed]",
            "text/plain": [
              "<Figure size 432x288 with 1 Axes>"
            ]
          },
          "metadata": {
            "needs_background": "light"
          }
        }
      ]
    },
    {
      "cell_type": "markdown",
      "metadata": {
        "id": "2G52XTW8EvcT"
      },
      "source": [
        "# Case 2: Cylindrical coordinates\n",
        "\n",
        "Reconsider this problem for the case where the flow is in a cylindical pipe. This problem is most naturally considered in polar coordinates. \n",
        "\n",
        "Make a plot showing the profile of the velocity along the z-axis as a function of the radial component.\n"
      ]
    },
    {
      "cell_type": "code",
      "metadata": {
        "id": "kNCZI04aEvFs"
      },
      "source": [
        "#\n",
        "\n",
        "\n"
      ],
      "execution_count": null,
      "outputs": []
    },
    {
      "cell_type": "markdown",
      "metadata": {
        "id": "2GmSerzyUe3j"
      },
      "source": [
        ""
      ]
    },
    {
      "cell_type": "markdown",
      "metadata": {
        "id": "5x5HkQ5aNOlR"
      },
      "source": [
        "# (Bonus Case: Non-steady flow!)\n",
        "\n",
        "Above we have considered the case for steady flow - the time derivative was neglected. In general, we may wish to consider the flow profile as it becomes established. \n",
        "\n",
        "Consider the velocity profile as a function of time and space, i.e. $v_1 = v_1(x_2,t)$. Initially the fluid is at rest. Find a solution to the force balance as a function of time, and plot the velocity profile for several instances in time so see the flow develop.\n",
        "\n",
        "[Hint: there is a need to solve a diffusion-like equation here, which has a well known solution, invented by Fourier!]\n",
        "\n",
        "\n",
        "\n",
        "*Created by David Noone (david.noone@auckland.ac.nz)*\n",
        "\n",
        "*2022 version, contact: Geoff Willmott (g.willmott@auckland@auckland.ac.nz)*\n",
        "\n",
        "\n",
        "\n"
      ]
    }
  ]
}